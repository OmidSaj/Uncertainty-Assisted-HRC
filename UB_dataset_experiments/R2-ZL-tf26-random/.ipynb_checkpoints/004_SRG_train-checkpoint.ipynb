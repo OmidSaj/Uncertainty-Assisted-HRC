{
 "cells": [
  {
   "cell_type": "code",
   "execution_count": 1,
   "metadata": {},
   "outputs": [],
   "source": [
    "from Utility05_Bayesian import *\n",
    "# from bayes_opt import BayesianOptimization\n",
    "from tiramisu_net import *\n",
    "import scipy.io\n",
    "import cv2\n",
    "import multiprocessing\n",
    "from OsUtils import *\n",
    "import tensorflow as tf"
   ]
  },
  {
   "cell_type": "markdown",
   "metadata": {},
   "source": [
    "Load data"
   ]
  },
  {
   "cell_type": "code",
   "execution_count": 2,
   "metadata": {},
   "outputs": [],
   "source": [
    "import scipy.io\n",
    "import cv2\n",
    "import tensorflow as tf"
   ]
  },
  {
   "cell_type": "code",
   "execution_count": 3,
   "metadata": {},
   "outputs": [],
   "source": [
    "n_MoteCarlo_Samples=20\n",
    "def Monty_Model_softmax_X(X,model, N_MCS):\n",
    "    SoftMaxBin_list=[]\n",
    "    for i in range(N_MCS):\n",
    "        SoftMaxBin_list.append(model.predict(X))\n",
    "    SoftMaxBin=np.array(SoftMaxBin_list)\n",
    "    \n",
    "    SoftmaxMean=np.mean(SoftMaxBin,axis=0)\n",
    "    SoftmaxStd=np.std(SoftMaxBin,axis=0)\n",
    "\n",
    "    return SoftmaxMean,SoftmaxStd"
   ]
  },
  {
   "cell_type": "code",
   "execution_count": 4,
   "metadata": {},
   "outputs": [],
   "source": [
    "from meta_info import *\n",
    "N_MCS=1"
   ]
  },
  {
   "cell_type": "code",
   "execution_count": 5,
   "metadata": {},
   "outputs": [
    {
     "name": "stdout",
     "output_type": "stream",
     "text": [
      "pixel_unique:\n",
      "[0. 1.]\n",
      "pixel_count:\n",
      "[21884534   752266]\n",
      "class_weights_freq:\n",
      "[1. 1.]\n"
     ]
    }
   ],
   "source": [
    "MFW_data=np.load(cd_str+'ZL_dataset/'+str(new_H)+'x'+str(new_W)+'_'+data_type+'_MFW_data.npz')\n",
    "\n",
    "pixel_unique=MFW_data['pixel_unique']\n",
    "pixel_count=MFW_data['pixel_count']\n",
    "class_weights_freq=MFW_data['class_weights_freq']\n",
    "\n",
    "print('pixel_unique:')\n",
    "print(pixel_unique)\n",
    "\n",
    "print('pixel_count:')\n",
    "pixel_count[1]=sum(pixel_count[1:])\n",
    "pixel_count=pixel_count[0:5]\n",
    "print(pixel_count)\n",
    "pixel_med=np.median(pixel_count)\n",
    "class_weights_freq=pixel_med/pixel_count\n",
    "\n",
    "class_weights_freq=class_weights_freq*0+1\n",
    "print('class_weights_freq:')\n",
    "print(class_weights_freq)\n",
    "\n",
    "Big_data_dictionary=load_pickle(cd_str+'ZL_dataset/Big_data_dictionary')"
   ]
  },
  {
   "cell_type": "code",
   "execution_count": 6,
   "metadata": {},
   "outputs": [],
   "source": [
    "# this class only helps visualize the data and is not a generator\n",
    "class ZL_data_split:\n",
    "    \n",
    "    def __init__(self,\n",
    "                 data_split_dict,split_type,split_id,train_sp,\n",
    "                 new_H=new_H,new_W=new_W):\n",
    "        \n",
    "        self.data_split_dict=data_split_dict\n",
    "        self.split_id=split_id      # 'train', 'val', 'test'\n",
    "        self.split_type=split_type  # 'tool', 'agent', 'setup', 'random'\n",
    "        self.new_H = new_H\n",
    "        self.new_W = new_W        \n",
    "        \n",
    "        self.split_key=self.split_id+'_indx_bin'\n",
    "        self.vid_frm_id_bin=self.data_split_dict[self.split_type][self.split_key]\n",
    "        \n",
    "        self.n_obs = len(self.vid_frm_id_bin)\n",
    "        self.n_first=0\n",
    "        self.n_last=self.n_obs\n",
    "        \n",
    "        if self.split_id=='train':\n",
    "            if train_sp=='sp1':\n",
    "                self.n_first=0\n",
    "                self.n_last=int(len(self.vid_frm_id_bin)/2)\n",
    "                self.n_obs=len(self.vid_frm_id_bin[self.n_first:self.n_last])                \n",
    "            elif train_sp=='sp2':\n",
    "                self.n_first=int(len(self.vid_frm_id_bin)/2)\n",
    "                self.n_last=len(self.vid_frm_id_bin)\n",
    "                self.n_obs=len(self.vid_frm_id_bin[self.n_first:self.n_last]) \n",
    "            elif train_sp=='all':\n",
    "                pass\n",
    "            else:\n",
    "                print('invalid sp')\n",
    "    \n",
    "    def load_data(self,image_id, resize=True,verbose=0,\n",
    "                  norm_RGB=255):\n",
    "        \n",
    "        split_key=self.split_id+'_indx_bin'\n",
    "        vid_frm_id_bin=self.data_split_dict[self.split_type][split_key][image_id]\n",
    "        \n",
    "        data_tmp=np.load(cd_str+'ZL_dataset/proc_'+str(self.new_H)+'x'+str(self.new_W)\\\n",
    "                                                    +'/'+vid_frm_id_bin+'.npz')\n",
    "        img_i=data_tmp['X']/norm_RGB\n",
    "        mask_i=data_tmp['Y']\n",
    "\n",
    "#         if resize:\n",
    "#             mask_i = cv2.resize(np.array(mask_i), (self.new_W,self.new_H), interpolation =cv2.INTER_NEAREST)\n",
    "#             img_i = cv2.resize(np.array(img_i), (self.new_W,self.new_H), interpolation =cv2.INTER_NEAREST)\n",
    "            \n",
    "        if verbose==1:\n",
    "            print('img_i.shape:  '+str(img_i.shape))\n",
    "            print('mask_i.shape: '+str(mask_i.shape))\n",
    "            \n",
    "        return mask_i,img_i    "
   ]
  },
  {
   "cell_type": "code",
   "execution_count": 7,
   "metadata": {},
   "outputs": [],
   "source": [
    "training_set=ZL_data_split(Big_data_dictionary,data_type,'train','all',new_W=new_W,new_H=new_H)\n",
    "val_set=ZL_data_split(Big_data_dictionary,data_type,'val','none',new_W=new_W,new_H=new_H)\n",
    "test_set=ZL_data_split(Big_data_dictionary,data_type,'test','none',new_W=new_W,new_H=new_H)"
   ]
  },
  {
   "cell_type": "code",
   "execution_count": 8,
   "metadata": {},
   "outputs": [],
   "source": [
    "class DataGenerator_B(tf.keras.utils.Sequence):\n",
    "    'Generates data for Keras'\n",
    "    def __init__(self, class_weights, batch_size,\n",
    "                 data_split_dict,split_type,split_id,train_sp,\n",
    "                 n_classes=2, shuffle=True, new_H=new_H, new_W=new_W):\n",
    "        'Initialization'\n",
    "        self.batch_size = batch_size\n",
    "        self.class_weights = class_weights\n",
    "        self.n_classes = n_classes\n",
    "        self.data_split_dict=data_split_dict\n",
    "        self.split_type=split_type\n",
    "        self.split_id=split_id\n",
    "        self.train_sp=train_sp\n",
    "        self.shuffle = shuffle\n",
    "        self.new_H = new_H\n",
    "        self.new_W = new_W      \n",
    "        self.set_dir='SRG_'+self.split_id+'/'\n",
    "\n",
    "        self.split_key=self.split_id+'_indx_bin'\n",
    "        self.vid_frm_id_bin=self.data_split_dict[self.split_type][self.split_key]\n",
    "        self.n_obs = len(self.vid_frm_id_bin)\n",
    "        self.n_first=0\n",
    "        self.n_last=self.n_obs\n",
    "        \n",
    "        if self.split_id=='train':\n",
    "            if train_sp=='sp1':\n",
    "                self.n_first=0\n",
    "                self.n_last=int(len(self.vid_frm_id_bin)/2)\n",
    "                self.n_obs=len(self.vid_frm_id_bin[self.n_first:self.n_last])                \n",
    "            elif train_sp=='sp2':\n",
    "                self.n_first=int(len(self.vid_frm_id_bin)/2)\n",
    "                self.n_last=len(self.vid_frm_id_bin)\n",
    "                self.n_obs=len(self.vid_frm_id_bin[self.n_first:self.n_last]) \n",
    "            elif train_sp=='all':\n",
    "                pass\n",
    "            else:\n",
    "                print('invalid sp')       \n",
    "        \n",
    "        self.on_epoch_end()\n",
    "\n",
    "\n",
    "    def __len__(self):\n",
    "        'Denotes the number of batches per epoch'\n",
    "        return int(np.ceil(self.n_obs / self.batch_size))\n",
    "\n",
    "    def __getitem__(self, index):\n",
    "        'Generate one batch of data'\n",
    "        # Generate indexes of the batch\n",
    "        indexes = self.indexes[index*self.batch_size:(index+1)*self.batch_size]\n",
    "\n",
    "        # Generate data\n",
    "        data_tuple = self.__data_generation(indexes)\n",
    "\n",
    "        return data_tuple\n",
    "\n",
    "    def on_epoch_end(self):\n",
    "        'Updates indexes after each epoch'\n",
    "        self.indexes = np.arange(self.n_first,self.n_last,1) # only train on the first half of training set\n",
    "        if self.shuffle == True:\n",
    "            np.random.shuffle(self.indexes)\n",
    "\n",
    "    def __data_generation(self, indexes):\n",
    "        'Generates data containing batch_size samples' # X : (n_samples, *dim, n_channels)\n",
    "        # Initialization\n",
    "        batch_size_auto=indexes.shape[0]\n",
    "        X = np.empty((batch_size_auto, self.new_H,self.new_W, 8))\n",
    "        y = np.empty((batch_size_auto, self.new_H,self.new_W), dtype=int)\n",
    "\n",
    "        # Generate data\n",
    "        for i, ID in enumerate(indexes):\n",
    "            # Store sample\n",
    "            vid_frm_id=self.vid_frm_id_bin[ID]\n",
    "            X[i,] = np.load(self.set_dir+'X_SRG_'+vid_frm_id+'.npz')['X_SRG'] # already normalized\n",
    "            # Store class\n",
    "            data_tmp=np.load(cd_str+'ZL_dataset/proc_'+str(self.new_H)+'x'+str(self.new_W)\\\n",
    "                                                        +'/'+vid_frm_id+'.npz')\n",
    "            y[i]=data_tmp['Y']     \n",
    "             \n",
    "        #y[y>1]=1\n",
    "        y_resh=y.reshape((-1,self.new_H*self.new_W))\n",
    "#         print(np.amax(y_resh))\n",
    "#         print(y_resh.shape)\n",
    "        y_cat=tf.keras.utils.to_categorical(y_resh, num_classes=self.n_classes)\n",
    "        batch_wieghts = gen_weight_mat(y,self.class_weights)\n",
    "        \n",
    "        return (X, y_cat,batch_wieghts)"
   ]
  },
  {
   "cell_type": "markdown",
   "metadata": {},
   "source": [
    "## SRG Model"
   ]
  },
  {
   "cell_type": "code",
   "execution_count": 9,
   "metadata": {},
   "outputs": [],
   "source": [
    "n_epoch = 60\n",
    "patience =10\n",
    "\n",
    "batch_size_train = 1\n",
    "batch_size_eval = 20\n",
    "L2_C=0\n",
    "\n",
    "input_shape=(new_H,new_W,8)\n",
    "\n",
    "model_filename_save = 'test_SRG_2.h5'"
   ]
  },
  {
   "cell_type": "code",
   "execution_count": 10,
   "metadata": {},
   "outputs": [
    {
     "name": "stdout",
     "output_type": "stream",
     "text": [
      "pixel_unique:\n",
      "[0. 1.]\n",
      "pixel_count:\n",
      "[21884534   752266]\n",
      "class_weights_freq:\n",
      "[ 0.51718716 15.0457418 ]\n"
     ]
    }
   ],
   "source": [
    "MFW_data=np.load(cd_str+'ZL_dataset/'+str(new_H)+'x'+str(new_W)+'_'+data_type+'_MFW_data.npz')\n",
    "\n",
    "pixel_unique=MFW_data['pixel_unique']\n",
    "pixel_count=MFW_data['pixel_count']\n",
    "class_weights_freq=MFW_data['class_weights_freq']\n",
    "\n",
    "print('pixel_unique:')\n",
    "print(pixel_unique)\n",
    "\n",
    "print('pixel_count:')\n",
    "pixel_count[1]=sum(pixel_count[1:])\n",
    "pixel_count=pixel_count[0:5]\n",
    "print(pixel_count)\n",
    "pixel_med=np.median(pixel_count)\n",
    "class_weights_freq=pixel_med/pixel_count\n",
    "\n",
    "class_weights_freq=class_weights_freq*0+1\n",
    "print('class_weights_freq:')\n",
    "print(class_weights_freq)\n",
    "\n",
    "Big_data_dictionary=load_pickle(cd_str+'ZL_dataset/Big_data_dictionary')"
   ]
  },
  {
   "cell_type": "code",
   "execution_count": 11,
   "metadata": {},
   "outputs": [],
   "source": [
    "train_generator_sp_all = DataGenerator_B(\n",
    "                                    class_weights_freq,batch_size_train,                 \n",
    "                                    Big_data_dictionary,data_type,'train','all',\n",
    "                                    new_W=new_W,new_H=new_H)\n",
    "val_generator = DataGenerator_B(\n",
    "                              class_weights_freq,batch_size_eval,\n",
    "                              Big_data_dictionary,data_type,'val','none',\n",
    "                              new_W=new_W,new_H=new_H,\n",
    "                              shuffle=False)\n",
    "test_generator = DataGenerator_B(\n",
    "                               class_weights_freq,batch_size_eval,\n",
    "                               Big_data_dictionary,data_type,'test','none',\n",
    "                               new_W=new_W,new_H=new_H,\n",
    "                               shuffle=False)"
   ]
  },
  {
   "cell_type": "code",
   "execution_count": 12,
   "metadata": {},
   "outputs": [],
   "source": [
    "SRG_model=Tiramisu(L2_C,\n",
    "                   input_shape=input_shape,\n",
    "                   n_classes = 2,\n",
    "                   n_filters_first_conv = 32,\n",
    "                   n_pool = 2,\n",
    "                   growth_rate = 16 ,\n",
    "                   n_layers_per_block = [3,3,4,3,3],\n",
    "                   dropout_p = 0.0)"
   ]
  },
  {
   "cell_type": "code",
   "execution_count": 13,
   "metadata": {},
   "outputs": [],
   "source": [
    "optimizer=optimizers.Nadam(learning_rate=1e-3, schedule_decay=0.004) "
   ]
  },
  {
   "cell_type": "code",
   "execution_count": 14,
   "metadata": {},
   "outputs": [],
   "source": [
    "SRG_model.compile(loss=\"categorical_crossentropy\", optimizer=optimizer, metrics=[\"acc\"],sample_weight_mode=\"temporal\")\n",
    "# \"categorical_crossentropy\"\n",
    "model_callbacks = [EarlyStopping(monitor='val_loss', patience=patience),\n",
    "         ModelCheckpoint(filepath=model_filename_save, monitor='val_loss', save_best_only=True,mode='min'), plot_losses] #bval_object #plot_losses"
   ]
  },
  {
   "cell_type": "code",
   "execution_count": 15,
   "metadata": {
    "scrolled": false
   },
   "outputs": [
    {
     "data": {
      "text/plain": [
       "<Figure size 432x288 with 0 Axes>"
      ]
     },
     "metadata": {},
     "output_type": "display_data"
    },
    {
     "data": {
      "image/png": "[encoded data removed]",
      "text/plain": [
       "<Figure size 720x360 with 2 Axes>"
      ]
     },
     "metadata": {
      "needs_background": "light"
     },
     "output_type": "display_data"
    },
    {
     "name": "stdout",
     "output_type": "stream",
     "text": [
      "Epoch 2/60\n",
      " 89/393 [=====>........................] - ETA: 23s - loss: 0.1060 - acc: 0.9629"
     ]
    },
    {
     "ename": "KeyboardInterrupt",
     "evalue": "",
     "output_type": "error",
     "traceback": [
      "\u001b[1;31m---------------------------------------------------------------------------\u001b[0m",
      "\u001b[1;31mKeyboardInterrupt\u001b[0m                         Traceback (most recent call last)",
      "\u001b[1;32m~\\AppData\\Local\\Temp/ipykernel_20696/3740014632.py\u001b[0m in \u001b[0;36m<module>\u001b[1;34m\u001b[0m\n\u001b[1;32m----> 1\u001b[1;33m model_hist = SRG_model.fit_generator(\n\u001b[0m\u001b[0;32m      2\u001b[0m                                     \u001b[0mtrain_generator_sp_all\u001b[0m\u001b[1;33m,\u001b[0m\u001b[1;33m\u001b[0m\u001b[1;33m\u001b[0m\u001b[0m\n\u001b[0;32m      3\u001b[0m                                     \u001b[0mepochs\u001b[0m\u001b[1;33m=\u001b[0m\u001b[0mn_epoch\u001b[0m\u001b[1;33m,\u001b[0m\u001b[1;33m\u001b[0m\u001b[1;33m\u001b[0m\u001b[0m\n\u001b[0;32m      4\u001b[0m                                     \u001b[0mcallbacks\u001b[0m\u001b[1;33m=\u001b[0m\u001b[0mmodel_callbacks\u001b[0m\u001b[1;33m,\u001b[0m\u001b[1;33m\u001b[0m\u001b[1;33m\u001b[0m\u001b[0m\n\u001b[0;32m      5\u001b[0m                                     \u001b[0mvalidation_data\u001b[0m\u001b[1;33m=\u001b[0m\u001b[0mval_generator\u001b[0m\u001b[1;33m,\u001b[0m\u001b[1;33m\u001b[0m\u001b[1;33m\u001b[0m\u001b[0m\n",
      "\u001b[1;32m~\\.conda\\envs\\tf26\\lib\\site-packages\\keras\\engine\\training.py\u001b[0m in \u001b[0;36mfit_generator\u001b[1;34m(self, generator, steps_per_epoch, epochs, verbose, callbacks, validation_data, validation_steps, validation_freq, class_weight, max_queue_size, workers, use_multiprocessing, shuffle, initial_epoch)\u001b[0m\n\u001b[0;32m   1973\u001b[0m                   \u001b[1;34m'will be removed in a future version. '\u001b[0m\u001b[1;33m\u001b[0m\u001b[1;33m\u001b[0m\u001b[0m\n\u001b[0;32m   1974\u001b[0m                   'Please use `Model.fit`, which supports generators.')\n\u001b[1;32m-> 1975\u001b[1;33m     return self.fit(\n\u001b[0m\u001b[0;32m   1976\u001b[0m         \u001b[0mgenerator\u001b[0m\u001b[1;33m,\u001b[0m\u001b[1;33m\u001b[0m\u001b[1;33m\u001b[0m\u001b[0m\n\u001b[0;32m   1977\u001b[0m         \u001b[0msteps_per_epoch\u001b[0m\u001b[1;33m=\u001b[0m\u001b[0msteps_per_epoch\u001b[0m\u001b[1;33m,\u001b[0m\u001b[1;33m\u001b[0m\u001b[1;33m\u001b[0m\u001b[0m\n",
      "\u001b[1;32m~\\.conda\\envs\\tf26\\lib\\site-packages\\keras\\engine\\training.py\u001b[0m in \u001b[0;36mfit\u001b[1;34m(self, x, y, batch_size, epochs, verbose, callbacks, validation_split, validation_data, shuffle, class_weight, sample_weight, initial_epoch, steps_per_epoch, validation_steps, validation_batch_size, validation_freq, max_queue_size, workers, use_multiprocessing)\u001b[0m\n\u001b[0;32m   1182\u001b[0m                 _r=1):\n\u001b[0;32m   1183\u001b[0m               \u001b[0mcallbacks\u001b[0m\u001b[1;33m.\u001b[0m\u001b[0mon_train_batch_begin\u001b[0m\u001b[1;33m(\u001b[0m\u001b[0mstep\u001b[0m\u001b[1;33m)\u001b[0m\u001b[1;33m\u001b[0m\u001b[1;33m\u001b[0m\u001b[0m\n\u001b[1;32m-> 1184\u001b[1;33m               \u001b[0mtmp_logs\u001b[0m \u001b[1;33m=\u001b[0m \u001b[0mself\u001b[0m\u001b[1;33m.\u001b[0m\u001b[0mtrain_function\u001b[0m\u001b[1;33m(\u001b[0m\u001b[0miterator\u001b[0m\u001b[1;33m)\u001b[0m\u001b[1;33m\u001b[0m\u001b[1;33m\u001b[0m\u001b[0m\n\u001b[0m\u001b[0;32m   1185\u001b[0m               \u001b[1;32mif\u001b[0m \u001b[0mdata_handler\u001b[0m\u001b[1;33m.\u001b[0m\u001b[0mshould_sync\u001b[0m\u001b[1;33m:\u001b[0m\u001b[1;33m\u001b[0m\u001b[1;33m\u001b[0m\u001b[0m\n\u001b[0;32m   1186\u001b[0m                 \u001b[0mcontext\u001b[0m\u001b[1;33m.\u001b[0m\u001b[0masync_wait\u001b[0m\u001b[1;33m(\u001b[0m\u001b[1;33m)\u001b[0m\u001b[1;33m\u001b[0m\u001b[1;33m\u001b[0m\u001b[0m\n",
      "\u001b[1;32m~\\.conda\\envs\\tf26\\lib\\site-packages\\tensorflow\\python\\eager\\def_function.py\u001b[0m in \u001b[0;36m__call__\u001b[1;34m(self, *args, **kwds)\u001b[0m\n\u001b[0;32m    883\u001b[0m \u001b[1;33m\u001b[0m\u001b[0m\n\u001b[0;32m    884\u001b[0m       \u001b[1;32mwith\u001b[0m \u001b[0mOptionalXlaContext\u001b[0m\u001b[1;33m(\u001b[0m\u001b[0mself\u001b[0m\u001b[1;33m.\u001b[0m\u001b[0m_jit_compile\u001b[0m\u001b[1;33m)\u001b[0m\u001b[1;33m:\u001b[0m\u001b[1;33m\u001b[0m\u001b[1;33m\u001b[0m\u001b[0m\n\u001b[1;32m--> 885\u001b[1;33m         \u001b[0mresult\u001b[0m \u001b[1;33m=\u001b[0m \u001b[0mself\u001b[0m\u001b[1;33m.\u001b[0m\u001b[0m_call\u001b[0m\u001b[1;33m(\u001b[0m\u001b[1;33m*\u001b[0m\u001b[0margs\u001b[0m\u001b[1;33m,\u001b[0m \u001b[1;33m**\u001b[0m\u001b[0mkwds\u001b[0m\u001b[1;33m)\u001b[0m\u001b[1;33m\u001b[0m\u001b[1;33m\u001b[0m\u001b[0m\n\u001b[0m\u001b[0;32m    886\u001b[0m \u001b[1;33m\u001b[0m\u001b[0m\n\u001b[0;32m    887\u001b[0m       \u001b[0mnew_tracing_count\u001b[0m \u001b[1;33m=\u001b[0m \u001b[0mself\u001b[0m\u001b[1;33m.\u001b[0m\u001b[0mexperimental_get_tracing_count\u001b[0m\u001b[1;33m(\u001b[0m\u001b[1;33m)\u001b[0m\u001b[1;33m\u001b[0m\u001b[1;33m\u001b[0m\u001b[0m\n",
      "\u001b[1;32m~\\.conda\\envs\\tf26\\lib\\site-packages\\tensorflow\\python\\eager\\def_function.py\u001b[0m in \u001b[0;36m_call\u001b[1;34m(self, *args, **kwds)\u001b[0m\n\u001b[0;32m    915\u001b[0m       \u001b[1;31m# In this case we have created variables on the first call, so we run the\u001b[0m\u001b[1;33m\u001b[0m\u001b[1;33m\u001b[0m\u001b[1;33m\u001b[0m\u001b[0m\n\u001b[0;32m    916\u001b[0m       \u001b[1;31m# defunned version which is guaranteed to never create variables.\u001b[0m\u001b[1;33m\u001b[0m\u001b[1;33m\u001b[0m\u001b[1;33m\u001b[0m\u001b[0m\n\u001b[1;32m--> 917\u001b[1;33m       \u001b[1;32mreturn\u001b[0m \u001b[0mself\u001b[0m\u001b[1;33m.\u001b[0m\u001b[0m_stateless_fn\u001b[0m\u001b[1;33m(\u001b[0m\u001b[1;33m*\u001b[0m\u001b[0margs\u001b[0m\u001b[1;33m,\u001b[0m \u001b[1;33m**\u001b[0m\u001b[0mkwds\u001b[0m\u001b[1;33m)\u001b[0m  \u001b[1;31m# pylint: disable=not-callable\u001b[0m\u001b[1;33m\u001b[0m\u001b[1;33m\u001b[0m\u001b[0m\n\u001b[0m\u001b[0;32m    918\u001b[0m     \u001b[1;32melif\u001b[0m \u001b[0mself\u001b[0m\u001b[1;33m.\u001b[0m\u001b[0m_stateful_fn\u001b[0m \u001b[1;32mis\u001b[0m \u001b[1;32mnot\u001b[0m \u001b[1;32mNone\u001b[0m\u001b[1;33m:\u001b[0m\u001b[1;33m\u001b[0m\u001b[1;33m\u001b[0m\u001b[0m\n\u001b[0;32m    919\u001b[0m       \u001b[1;31m# Release the lock early so that multiple threads can perform the call\u001b[0m\u001b[1;33m\u001b[0m\u001b[1;33m\u001b[0m\u001b[1;33m\u001b[0m\u001b[0m\n",
      "\u001b[1;32m~\\.conda\\envs\\tf26\\lib\\site-packages\\tensorflow\\python\\eager\\function.py\u001b[0m in \u001b[0;36m__call__\u001b[1;34m(self, *args, **kwargs)\u001b[0m\n\u001b[0;32m   3037\u001b[0m       (graph_function,\n\u001b[0;32m   3038\u001b[0m        filtered_flat_args) = self._maybe_define_function(args, kwargs)\n\u001b[1;32m-> 3039\u001b[1;33m     return graph_function._call_flat(\n\u001b[0m\u001b[0;32m   3040\u001b[0m         filtered_flat_args, captured_inputs=graph_function.captured_inputs)  # pylint: disable=protected-access\n\u001b[0;32m   3041\u001b[0m \u001b[1;33m\u001b[0m\u001b[0m\n",
      "\u001b[1;32m~\\.conda\\envs\\tf26\\lib\\site-packages\\tensorflow\\python\\eager\\function.py\u001b[0m in \u001b[0;36m_call_flat\u001b[1;34m(self, args, captured_inputs, cancellation_manager)\u001b[0m\n\u001b[0;32m   1961\u001b[0m         and executing_eagerly):\n\u001b[0;32m   1962\u001b[0m       \u001b[1;31m# No tape is watching; skip to running the function.\u001b[0m\u001b[1;33m\u001b[0m\u001b[1;33m\u001b[0m\u001b[1;33m\u001b[0m\u001b[0m\n\u001b[1;32m-> 1963\u001b[1;33m       return self._build_call_outputs(self._inference_function.call(\n\u001b[0m\u001b[0;32m   1964\u001b[0m           ctx, args, cancellation_manager=cancellation_manager))\n\u001b[0;32m   1965\u001b[0m     forward_backward = self._select_forward_and_backward_functions(\n",
      "\u001b[1;32m~\\.conda\\envs\\tf26\\lib\\site-packages\\tensorflow\\python\\eager\\function.py\u001b[0m in \u001b[0;36mcall\u001b[1;34m(self, ctx, args, cancellation_manager)\u001b[0m\n\u001b[0;32m    589\u001b[0m       \u001b[1;32mwith\u001b[0m \u001b[0m_InterpolateFunctionError\u001b[0m\u001b[1;33m(\u001b[0m\u001b[0mself\u001b[0m\u001b[1;33m)\u001b[0m\u001b[1;33m:\u001b[0m\u001b[1;33m\u001b[0m\u001b[1;33m\u001b[0m\u001b[0m\n\u001b[0;32m    590\u001b[0m         \u001b[1;32mif\u001b[0m \u001b[0mcancellation_manager\u001b[0m \u001b[1;32mis\u001b[0m \u001b[1;32mNone\u001b[0m\u001b[1;33m:\u001b[0m\u001b[1;33m\u001b[0m\u001b[1;33m\u001b[0m\u001b[0m\n\u001b[1;32m--> 591\u001b[1;33m           outputs = execute.execute(\n\u001b[0m\u001b[0;32m    592\u001b[0m               \u001b[0mstr\u001b[0m\u001b[1;33m(\u001b[0m\u001b[0mself\u001b[0m\u001b[1;33m.\u001b[0m\u001b[0msignature\u001b[0m\u001b[1;33m.\u001b[0m\u001b[0mname\u001b[0m\u001b[1;33m)\u001b[0m\u001b[1;33m,\u001b[0m\u001b[1;33m\u001b[0m\u001b[1;33m\u001b[0m\u001b[0m\n\u001b[0;32m    593\u001b[0m               \u001b[0mnum_outputs\u001b[0m\u001b[1;33m=\u001b[0m\u001b[0mself\u001b[0m\u001b[1;33m.\u001b[0m\u001b[0m_num_outputs\u001b[0m\u001b[1;33m,\u001b[0m\u001b[1;33m\u001b[0m\u001b[1;33m\u001b[0m\u001b[0m\n",
      "\u001b[1;32m~\\.conda\\envs\\tf26\\lib\\site-packages\\tensorflow\\python\\eager\\execute.py\u001b[0m in \u001b[0;36mquick_execute\u001b[1;34m(op_name, num_outputs, inputs, attrs, ctx, name)\u001b[0m\n\u001b[0;32m     57\u001b[0m   \u001b[1;32mtry\u001b[0m\u001b[1;33m:\u001b[0m\u001b[1;33m\u001b[0m\u001b[1;33m\u001b[0m\u001b[0m\n\u001b[0;32m     58\u001b[0m     \u001b[0mctx\u001b[0m\u001b[1;33m.\u001b[0m\u001b[0mensure_initialized\u001b[0m\u001b[1;33m(\u001b[0m\u001b[1;33m)\u001b[0m\u001b[1;33m\u001b[0m\u001b[1;33m\u001b[0m\u001b[0m\n\u001b[1;32m---> 59\u001b[1;33m     tensors = pywrap_tfe.TFE_Py_Execute(ctx._handle, device_name, op_name,\n\u001b[0m\u001b[0;32m     60\u001b[0m                                         inputs, attrs, num_outputs)\n\u001b[0;32m     61\u001b[0m   \u001b[1;32mexcept\u001b[0m \u001b[0mcore\u001b[0m\u001b[1;33m.\u001b[0m\u001b[0m_NotOkStatusException\u001b[0m \u001b[1;32mas\u001b[0m \u001b[0me\u001b[0m\u001b[1;33m:\u001b[0m\u001b[1;33m\u001b[0m\u001b[1;33m\u001b[0m\u001b[0m\n",
      "\u001b[1;31mKeyboardInterrupt\u001b[0m: "
     ]
    }
   ],
   "source": [
    "model_hist = SRG_model.fit_generator(\n",
    "                                    train_generator_sp_all,\n",
    "                                    epochs=n_epoch,\n",
    "                                    callbacks=model_callbacks,\n",
    "                                    validation_data=val_generator,\n",
    "                                    max_queue_size=60,\n",
    "                                    verbose=1,  \n",
    "                                    workers = 8\n",
    "                                    )\n",
    "#                                     workers=4, #multiprocessing.cpu_count()\n",
    "#                                     use_multiprocessing=True,"
   ]
  },
  {
   "cell_type": "code",
   "execution_count": null,
   "metadata": {},
   "outputs": [],
   "source": [
    "best_model=load_model(model_filename_save)"
   ]
  },
  {
   "cell_type": "code",
   "execution_count": null,
   "metadata": {},
   "outputs": [],
   "source": [
    "def Monty_Model_softmax(data_generator, model, N_MCS=N_MCS,steps=100):\n",
    "    SoftMaxBin_list=[]\n",
    "    for i in range(N_MCS):\n",
    "        print(i)\n",
    "        SoftMaxBin_list.append(model.predict(data_generator))\n",
    "    SoftMaxBin=np.array(SoftMaxBin_list)\n",
    "    SoftmaxMean=np.mean(SoftMaxBin,axis=0)\n",
    "    SoftmaxStd=np.std(SoftMaxBin,axis=0)\n",
    "    return SoftmaxMean,SoftmaxStd"
   ]
  },
  {
   "cell_type": "code",
   "execution_count": null,
   "metadata": {},
   "outputs": [],
   "source": [
    "SoftmaxMean_test,SoftmaxStd_test = Monty_Model_softmax(test_generator,best_model, N_MCS=N_MCS,steps=test_generator.n_obs/batch_size_eval)"
   ]
  },
  {
   "cell_type": "code",
   "execution_count": null,
   "metadata": {},
   "outputs": [],
   "source": [
    "def get_Y(set_object):\n",
    "\n",
    "    n_obs=set_object.n_obs\n",
    "    y=np.empty((set_object.n_obs, new_H,new_W), dtype=int)\n",
    "    for i_obs in range(set_object.n_obs):\n",
    "        mask_i,_ = set_object.load_data(i_obs,verbose=0,resize=True)\n",
    "        y[i_obs] = mask_i\n",
    "\n",
    "#    y[y>1]=1\n",
    "#     y_resh=y.reshape((-1,new_H*new_W))\n",
    "    print(y.shape)\n",
    "    return y"
   ]
  },
  {
   "cell_type": "code",
   "execution_count": null,
   "metadata": {},
   "outputs": [],
   "source": [
    "y_gt_test=get_Y(test_set)"
   ]
  },
  {
   "cell_type": "code",
   "execution_count": null,
   "metadata": {
    "scrolled": true
   },
   "outputs": [],
   "source": [
    "import matplotlib.colors as colors\n",
    "\n",
    "for i_obs in np.arange(0,test_generator.n_obs,10):\n",
    "    obs_id_eval=i_obs\n",
    "\n",
    "    mask_i,img_i = test_set.load_data(obs_id_eval,verbose=0,resize=True)\n",
    "\n",
    "    mask_pred_i=np.argmax(SoftmaxMean_test[obs_id_eval],axis=-1).reshape(new_H,new_W)\n",
    "    mask_std_i=np.mean(SoftmaxStd_test[obs_id_eval],axis=-1).reshape(new_H,new_W)\n",
    "\n",
    "    mask_i=mask_i\n",
    "#     mask_i[mask_i!=4]=0\n",
    "    fig, ax = plt.subplots(1,4,figsize=(16,5))\n",
    "    ax[0].imshow(img_i)\n",
    "    ax[1].imshow(img_i)\n",
    "    im1=ax[1].imshow(mask_i,cmap='Paired',vmin=0,vmax=1,alpha=0.8,interpolation='nearest')\n",
    "    ax[2].imshow(img_i)\n",
    "    ax[2].imshow(mask_pred_i,cmap='Paired',vmin=0,vmax=1,alpha=0.8,interpolation='nearest')\n",
    "    \n",
    "    ax[3].imshow(mask_std_i,cmap='Reds')\n",
    "    \n",
    "#     fig.colorbar(im1, ax=ax)\n",
    "    plt.show()\n",
    "    plt.close()"
   ]
  },
  {
   "cell_type": "code",
   "execution_count": null,
   "metadata": {},
   "outputs": [],
   "source": [
    "def Models_eval_hands_B(SoftmaxMean,y_get_set,save_fname):\n",
    "    \n",
    "    Y_pred=np.argmax(SoftmaxMean,axis=-1).reshape(-1,new_H,new_W)\n",
    "    # precision, recall, f1\n",
    "    prc_bin, rec_bin, f1_bin, _ =precision_recall_fscore_support(y_get_set.ravel(), Y_pred.ravel())\n",
    "    # calculate entropy\n",
    "    p_c=SoftmaxMean\n",
    "    max_p=np.sum(SoftmaxMean,axis=-1)\n",
    "    max_p=np.reshape(max_p,max_p.shape+(1,))\n",
    "    p_c_norm=np.divide(p_c,max_p)\n",
    "    log_p_c=np.log10(p_c_norm+1e-12)\n",
    "    entropy=np.sum(np.multiply(-1*p_c_norm,log_p_c),axis=-1)\n",
    "    \n",
    "    # IoU\n",
    "    classes=np.unique(y_get_set)\n",
    "    nClasses=len(classes)\n",
    "    IoU_bin=[]\n",
    "\n",
    "    Mask_GT=y_get_set\n",
    "    Mask_Prd=Y_pred\n",
    "\n",
    "    for i in range(nClasses):\n",
    "        \n",
    "        GT_class_cond=(Mask_GT==classes[i])\n",
    "        Prd_class_cond=(Mask_Prd==classes[i])\n",
    "        # Measure IoU\n",
    "        intersection=np.logical_and(GT_class_cond,Prd_class_cond)\n",
    "        union=np.logical_or(GT_class_cond,Prd_class_cond)\n",
    "        \n",
    "        IoU_class = np.sum(intersection) / np.sum(union) \n",
    "        IoU_bin.append(IoU_class)    \n",
    "    \n",
    "    print('           Background    Hands       mean')\n",
    "    print('Precision:    %1.2f      %1.2f      %1.2f'%(prc_bin[0]*100,\n",
    "                                                     prc_bin[1]*100,\n",
    "                                                     np.mean(prc_bin)*100))\n",
    "    \n",
    "    print('Recall:       %1.2f      %1.2f      %1.2f'%(rec_bin[0]*100,\n",
    "                                                     rec_bin[1]*100,\n",
    "                                                     np.mean(rec_bin)*100))\n",
    "     \n",
    "    print('F1-score:     %1.2f      %1.2f      %1.2f'%(f1_bin[0]*100,\n",
    "                                                     f1_bin[1]*100,\n",
    "                                                     np.mean(f1_bin)*100))\n",
    "    \n",
    "    print('IoU:          %1.2f      %1.2f      %1.2f'%(IoU_bin[0]*100,\n",
    "                                                     IoU_bin[1]*100,\n",
    "                                                     np.mean(IoU_bin)*100))\n",
    "            \n",
    "    # save to file \n",
    "    np.savez_compressed(save_fname+'.npz',prc_bin=prc_bin, rec_bin=rec_bin, f1_bin=f1_bin, IoU_bin=IoU_bin)\n",
    "    "
   ]
  },
  {
   "cell_type": "code",
   "execution_count": null,
   "metadata": {},
   "outputs": [],
   "source": [
    "Models_eval_hands_B(SoftmaxMean_test,y_gt_test,'test_metrics_SRG')"
   ]
  },
  {
   "cell_type": "code",
   "execution_count": null,
   "metadata": {},
   "outputs": [],
   "source": []
  }
 ],
 "metadata": {
  "kernelspec": {
   "display_name": "Python 3 (ipykernel)",
   "language": "python",
   "name": "python3"
  },
  "language_info": {
   "codemirror_mode": {
    "name": "ipython",
    "version": 3
   },
   "file_extension": ".py",
   "mimetype": "text/x-python",
   "name": "python",
   "nbconvert_exporter": "python",
   "pygments_lexer": "ipython3",
   "version": "3.8.11"
  }
 },
 "nbformat": 4,
 "nbformat_minor": 4
}
